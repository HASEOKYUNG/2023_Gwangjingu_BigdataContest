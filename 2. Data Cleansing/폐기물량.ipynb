{
 "cells": [
  {
   "cell_type": "markdown",
   "id": "fdd7d156",
   "metadata": {},
   "source": [
    "### Import"
   ]
  },
  {
   "cell_type": "code",
   "execution_count": 1,
   "id": "b9e64776",
   "metadata": {},
   "outputs": [],
   "source": [
    "import os\n",
    "import numpy as np\n",
    "import pandas as pd\n",
    "import matplotlib.pyplot as plt\n",
    "import seaborn as sns\n",
    "\n",
    "plt.rc('font', family='Malgun Gothic')\n",
    "plt.rc('axes', unicode_minus=False)\n",
    "import warnings ; warnings.filterwarnings('ignore')"
   ]
  },
  {
   "cell_type": "markdown",
   "id": "8cad7c6e",
   "metadata": {},
   "source": [
    "### 생활폐기물량 데이터(Target)\n",
    "- [서울열린데이터광장] https://data.seoul.go.kr/dataList/370/S/2/datasetView.do"
   ]
  },
  {
   "cell_type": "code",
   "execution_count": 2,
   "id": "c506bc28",
   "metadata": {},
   "outputs": [],
   "source": [
    "raw_trash = pd.read_csv('RawData/생활계폐기물+발생량+및+처리현황_20230429182215.csv').iloc[4:,1:]\n",
    "raw_trash.iloc[:,1:] = raw_trash.iloc[:,1:].astype('f')"
   ]
  },
  {
   "cell_type": "code",
   "execution_count": 3,
   "id": "dfc5e223",
   "metadata": {},
   "outputs": [],
   "source": [
    "trash = pd.DataFrame()\n",
    "\n",
    "for i in range(1,25,4):\n",
    "    ease = pd.concat([raw_trash.iloc[:,0], raw_trash.iloc[:,i:i+2], raw_trash.iloc[:,i+2:i+4].sum(axis=1)], axis=1)\n",
    "    ease.columns = ['자치구','재활용폐기물량', '음식물류폐기물량','일반쓰레기량']\n",
    "    ease['년도'] = int(raw_trash.columns[i])\n",
    "    trash = pd.concat([trash, ease])\n",
    "    \n",
    "trash.reset_index(drop=True, inplace=True)"
   ]
  },
  {
   "cell_type": "markdown",
   "id": "a3049f12",
   "metadata": {},
   "source": [
    "## Save Data"
   ]
  },
  {
   "cell_type": "code",
   "execution_count": 4,
   "id": "f63de305",
   "metadata": {},
   "outputs": [],
   "source": [
    "# 각 데이터를 저장한다.\n",
    "trash.to_csv('ProcessedData/trash_1520_0429.csv', index=False)"
   ]
  },
  {
   "cell_type": "code",
   "execution_count": null,
   "id": "9f86cb75",
   "metadata": {},
   "outputs": [],
   "source": []
  },
  {
   "cell_type": "code",
   "execution_count": null,
   "id": "7ef5fef1",
   "metadata": {},
   "outputs": [],
   "source": []
  },
  {
   "cell_type": "code",
   "execution_count": null,
   "id": "5dbb5652",
   "metadata": {},
   "outputs": [],
   "source": []
  }
 ],
 "metadata": {
  "kernelspec": {
   "display_name": "Python 3 (ipykernel)",
   "language": "python",
   "name": "python3"
  },
  "language_info": {
   "codemirror_mode": {
    "name": "ipython",
    "version": 3
   },
   "file_extension": ".py",
   "mimetype": "text/x-python",
   "name": "python",
   "nbconvert_exporter": "python",
   "pygments_lexer": "ipython3",
   "version": "3.9.12"
  }
 },
 "nbformat": 4,
 "nbformat_minor": 5
}
