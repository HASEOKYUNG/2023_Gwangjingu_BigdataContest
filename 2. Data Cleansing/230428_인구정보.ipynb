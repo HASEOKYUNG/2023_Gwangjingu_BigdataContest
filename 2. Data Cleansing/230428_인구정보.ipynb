{
 "cells": [
  {
   "cell_type": "markdown",
   "id": "fdd7d156",
   "metadata": {},
   "source": [
    "### Import"
   ]
  },
  {
   "cell_type": "code",
   "execution_count": 1,
   "id": "b9e64776",
   "metadata": {},
   "outputs": [],
   "source": [
    "import os\n",
    "import numpy as np\n",
    "import pandas as pd\n",
    "import matplotlib.pyplot as plt\n",
    "import seaborn as sns\n",
    "\n",
    "plt.rc('font', family='Malgun Gothic')\n",
    "plt.rc('axes', unicode_minus=False)\n",
    "import warnings ; warnings.filterwarnings('ignore')"
   ]
  },
  {
   "cell_type": "markdown",
   "id": "9b506ab1",
   "metadata": {},
   "source": [
    "### 인구, 세대수, 면적\n",
    "#### $\\blacktriangleright$ 서울 자치구별 데이터 처리\n",
    "- [인구, 세대수] https://jumin.mois.go.kr/index.jsp#\n",
    "- 필요한 데이터를 선택해 다운받은 후 csv파일로 변환하여 사용한다.<br>\n",
    "  [면적] https://www.recycling-info.or.kr/sds/occprocessIndex.do?menuNo=M130302"
   ]
  },
  {
   "cell_type": "code",
   "execution_count": 2,
   "id": "5ec68c1c",
   "metadata": {
    "scrolled": true
   },
   "outputs": [],
   "source": [
    "raw_area = pd.read_csv('RawData/201512_202012_주민등록인구및세대현황_연간.csv', encoding='cp949').iloc[1:]"
   ]
  },
  {
   "cell_type": "code",
   "execution_count": 3,
   "id": "4551891e",
   "metadata": {},
   "outputs": [],
   "source": [
    "area = pd.DataFrame()\n",
    "\n",
    "for i in range(1,19,3):\n",
    "    ease = pd.concat([raw_area.iloc[:,0], raw_area.iloc[:,i:i+3]], axis=1)\n",
    "    ease.columns = ['자치구','인구','세대수','성비']\n",
    "    ease['년도'] = int(raw_area.columns[i][:4])\n",
    "    area = pd.concat([area, ease])\n",
    "    \n",
    "area['자치구'] = area['자치구'].str.split(' ', expand=True)[1]\n",
    "area['인구'] = area['인구'].str.replace(',','').astype('i')\n",
    "area['세대수'] = area['세대수'].str.replace(',','').astype('i')\n",
    "area.reset_index(drop=True, inplace=True)"
   ]
  },
  {
   "cell_type": "code",
   "execution_count": 4,
   "id": "15d88271",
   "metadata": {},
   "outputs": [
    {
     "name": "stdout",
     "output_type": "stream",
     "text": [
      "(150, 6)\n"
     ]
    }
   ],
   "source": [
    "# - 모든 데이터셋의 전체 행정구역과 생활폐기물 관리구역이 동일함을 확인했다.\n",
    "space = pd.DataFrame()\n",
    "\n",
    "for i in os.listdir('RawData/자원순환정보시스템_생활폐기물관리구역'):\n",
    "    ease = pd.read_csv(f'RawData/자원순환정보시스템_생활폐기물관리구역/{i}', encoding='cp949', header=3, \n",
    "                       usecols=[1,2], names=['자치구','면적']).iloc[1:]\n",
    "    ease['년도'] = int(i[:4])\n",
    "    space = pd.concat([space, ease])\n",
    "    \n",
    "space.reset_index(drop=True, inplace=True)\n",
    "area = area.merge(space, on=['자치구','년도'])\n",
    "print(area.shape)"
   ]
  },
  {
   "cell_type": "markdown",
   "id": "549458d8",
   "metadata": {},
   "source": [
    "#### $\\blacktriangleright$ 광진구 행정동별 데이터 처리\n",
    "- [인구, 세대수] https://jumin.mois.go.kr/index.jsp#\n",
    "- [면적] 광진구 생활폐기물 수집·운반대행 사업비 등 원가계산 연구용역 수립 보고서(p.22)"
   ]
  },
  {
   "cell_type": "code",
   "execution_count": 5,
   "id": "4d3b961d",
   "metadata": {},
   "outputs": [
    {
     "name": "stdout",
     "output_type": "stream",
     "text": [
      "(15, 5)\n"
     ]
    }
   ],
   "source": [
    "GJ_area = pd.read_csv('Rawdata/202012_202012_주민등록인구및세대현황_연간.csv', encoding='cp949',\n",
    "                       names=['행정동','인구','세대수','성비']).iloc[2:].reset_index(drop=True)\n",
    "GJ_area['행정동'] = GJ_area['행정동'].str.split(' ', expand=True)[2].str[:-12].str.replace('제','')\n",
    "GJ_area['인구'] = GJ_area['인구'].str.replace(',','').astype('i')\n",
    "GJ_area['세대수'] = GJ_area['세대수'].str.replace(',','').astype('i')\n",
    "\n",
    "space = {'중곡1동': 0.62, '중곡2동': 0.55, '중곡3동': 0.60,'중곡4동': 2.32, '능동': 1.10,\n",
    "         '구의1동': 0.56, '구의2동': 1.39, '구의3동': 1.02, '광장동': 2.39, '자양1동': 0.57,\n",
    "         '자양2동': 1.68, '자양3동': 1.20, '자양4동': 1.16, '화양동': 1.16, '군자동': 0.74}\n",
    "GJ_area['면적'] = GJ_area['행정동'].map(space)\n",
    "print(GJ_area.shape)"
   ]
  },
  {
   "cell_type": "markdown",
   "id": "5eac27ef",
   "metadata": {},
   "source": [
    "### 가구수, 1인 가구수\n",
    "1인 가구란 자취생처럼 홀로 거주하는 가구로 세대주가 1명인 1인 세대와 다르다.<br>\n",
    "[블로그] https://blog.naver.com/PostView.nhn?blogId=kidarikhfc&logNo=222189304323&parentCategoryNo=&categoryNo=92&viewDate=&isShowPopularPosts=true&from=search\n",
    "#### $\\blacktriangleright$ 서울 자치구별 데이터 처리\n",
    "- [가구수] https://data.seoul.go.kr/dataList/10996/S/2/datasetView.do"
   ]
  },
  {
   "cell_type": "code",
   "execution_count": 6,
   "id": "89fc98a8",
   "metadata": {},
   "outputs": [],
   "source": [
    "raw_household = pd.read_csv('RawData/가구원수별+가구-+읍면동(연도+끝자리+0,5),+시군구(그+외+연도)_20230417225327.csv')"
   ]
  },
  {
   "cell_type": "code",
   "execution_count": 7,
   "id": "33cf6fbc",
   "metadata": {},
   "outputs": [
    {
     "name": "stdout",
     "output_type": "stream",
     "text": [
      "(150, 10)\n"
     ]
    }
   ],
   "source": [
    "# 다중선형회귀모형 적합 시 column명 오류가 발생해 컬럼명에 숫자와 띄어쓰기가 없게 변경한다.\n",
    "household = pd.DataFrame()\n",
    "\n",
    "for i in range(2, 56, 9):\n",
    "    ease = pd.concat([raw_household.iloc[3:,1], raw_household.iloc[3:,i:i+8]], axis=1)\n",
    "    ease.columns = ['자치구','가구수','one','two','three','four','five','six','seven_more']\n",
    "    ease['년도'] = int(raw_household.columns[i])\n",
    "    household = pd.concat([household, ease])\n",
    "    \n",
    "household.iloc[:,1:-1] = household.iloc[:,1:-1].astype('i')\n",
    "household.reset_index(drop=True, inplace=True)\n",
    "print(household.shape)"
   ]
  },
  {
   "cell_type": "markdown",
   "id": "21acb0a9",
   "metadata": {},
   "source": [
    "#### $\\blacktriangleright$ 광진구 행정동별 데이터 처리\n",
    "- [가구수] https://data.seoul.go.kr/dataList/10996/S/2/datasetView.do"
   ]
  },
  {
   "cell_type": "code",
   "execution_count": 8,
   "id": "edaeb91f",
   "metadata": {},
   "outputs": [
    {
     "name": "stdout",
     "output_type": "stream",
     "text": [
      "(15, 9)\n"
     ]
    }
   ],
   "source": [
    "# 평균_가구원수는 결측이다.\n",
    "GJ_household = pd.read_csv('RawData/가구원수별+가구-+읍면동(연도+끝자리+0,5),+시군구(그+외+연도)_20230423120156.csv')\n",
    "GJ_household = GJ_household[GJ_household.iloc[:,1]==\"광진구\"].iloc[1:,2:-1].reset_index(drop=True)\n",
    "GJ_household.columns = ['행정동','가구수','one','two','three','four','five','six','seven_more']\n",
    "GJ_household['seven_more'] = GJ_household['seven_more'].apply(lambda x: 0 if x==\"X\" else x)\n",
    "GJ_household.iloc[:,1:] = GJ_household.iloc[:,1:].astype('i')\n",
    "print(GJ_household.shape)"
   ]
  },
  {
   "cell_type": "markdown",
   "id": "dfbb2b7f",
   "metadata": {},
   "source": [
    "### 출생, 사망, 혼인, 이혼 건수\n",
    "#### $\\blacktriangleright$ 서울 자치구별 데이터 처리\n",
    "- [통계청] https://kosis.kr/statHtml/statHtml.do?orgId=101&tblId=DT_1B8000K&vw_cd=MT_ZTITLE&list_id=A2_6&scrId=&seqNo=&lang_mode=ko&obj_var_id=&itm_id=&conn_path=K1&path=%25EC%259D%25B8%25EA%25B5%25AC%2520%253E%2520%25EC%259D%25B8%25EA%25B5%25AC%25EB%258F%2599%25ED%2596%25A5%25EC%25A1%25B0%25EC%2582%25AC%2520%253E%2520%25EC%259D%25B8%25EA%25B5%25AC%25EB%258F%2599%25ED%2583%259C%25EA%25B1%25B4%25EC%2588%2598%2520%25EB%25B0%258F%2520%25EB%258F%2599%25ED%2583%259C%25EC%259C%25A8%28%25EC%25B6%259C%25EC%2583%259D%252C%2520%25EC%2582%25AC%25EB%25A7%259D%252C%2520%25ED%2598%25BC%25EC%259D%25B8%252C%2520%25EC%259D%25B4%25ED%2598%25BC%29%25EC%259D%258D%25EB%25A9%25B4%25EB%258F%2599%252F%25EC%2584%25B1%25EB%25B3%2584%252F%25EC%259D%25B8%25EA%25B5%25AC%25EB%258F%2599%25ED%2583%259C%25EA%25B1%25B4%25EC%2588%2598%28%25EC%25B6%259C%25EC%2583%259D%252C%25EC%2582%25AC%25EB%25A7%259D%252C%25ED%2598%25BC%25EC%259D%25B8%252C%25EC%259D%25B4%25ED%2598%25BC%29"
   ]
  },
  {
   "cell_type": "code",
   "execution_count": 9,
   "id": "3f98cac2",
   "metadata": {},
   "outputs": [],
   "source": [
    "ease = pd.read_csv('RawData/101_DT_1B8000K_20230423131203.csv', encoding='cp949')\n",
    "seoul_raw = ease.query('행정구역별 in @area.자치구.unique()')\n",
    "GJ_raw = ease.query('행정구역별 in @GJ_area.행정동.unique()')"
   ]
  },
  {
   "cell_type": "code",
   "execution_count": 10,
   "id": "28fa93a7",
   "metadata": {},
   "outputs": [
    {
     "name": "stdout",
     "output_type": "stream",
     "text": [
      "(150, 6)\n"
     ]
    }
   ],
   "source": [
    "registration = list()\n",
    "\n",
    "for year in range(4,10):\n",
    "    for i in range(0,125,5):\n",
    "        registration.append([seoul_raw.행정구역별.iloc[i], int(seoul_raw.columns[year][:4])]\\\n",
    "                            +seoul_raw.iloc[[i,i+1,i+3,i+4], year].tolist())\n",
    "\n",
    "registration = pd.DataFrame(registration, columns=['자치구','년도','출생건수','사망건수','혼인건수','이혼건수'])\n",
    "print(registration.shape)"
   ]
  },
  {
   "cell_type": "markdown",
   "id": "610dfcc6",
   "metadata": {},
   "source": [
    "#### $\\blacktriangleright$ 광진구 행정동별 데이터 처리\n",
    "- 서울 자치구별 데이터를 재사용한다."
   ]
  },
  {
   "cell_type": "code",
   "execution_count": 11,
   "id": "c583fc98",
   "metadata": {},
   "outputs": [
    {
     "name": "stdout",
     "output_type": "stream",
     "text": [
      "(15, 5)\n"
     ]
    }
   ],
   "source": [
    "GJ_registration = list()\n",
    "\n",
    "for i in range(0,75,5):\n",
    "    GJ_registration.append([GJ_raw.행정구역별.iloc[i]]+GJ_raw.iloc[[i,i+1,i+3,i+4],-2].tolist())\n",
    "\n",
    "GJ_registration = pd.DataFrame(GJ_registration, columns=['행정동','출생건수','사망건수','혼인건수','이혼건수'])\n",
    "print(GJ_registration.shape)"
   ]
  },
  {
   "cell_type": "markdown",
   "id": "89563c61",
   "metadata": {},
   "source": [
    "### 폐기물 수거 인력수, 차량수\n",
    "#### $\\blacktriangleright$ 서울 자치구별 데이터 처리\n",
    "- 필요한 데이터를 선택해 다운받은 후 csv파일로 변환하여 사용한다.<br>\n",
    "  [자원순환정보시스템] https://www.recycling-info.or.kr/sds/occprocessIndex.do?menuNo=M130302"
   ]
  },
  {
   "cell_type": "code",
   "execution_count": 12,
   "id": "2bd4dacc",
   "metadata": {},
   "outputs": [],
   "source": [
    "# 0값이 존재해 제거한다."
   ]
  },
  {
   "cell_type": "code",
   "execution_count": 13,
   "id": "d480c384",
   "metadata": {
    "scrolled": true
   },
   "outputs": [
    {
     "name": "stdout",
     "output_type": "stream",
     "text": [
      "(175, 4)\n"
     ]
    }
   ],
   "source": [
    "# - 2018년 이전, 2019년 이후 데이터 작성 방식이 다르기에 나누어 처리한다.\n",
    "hr = pd.DataFrame()\n",
    "\n",
    "for i in os.listdir('RawData/자원순환정보시스템_인력'):\n",
    "    if int(i[:4]) < 2019:\n",
    "        ease = pd.read_csv(f'RawData/자원순환정보시스템_인력/{i}', encoding='cp949', header=3,\n",
    "                            usecols=[1, 10, 11], names=['자치구','인력수','차량수']).iloc[1:]\n",
    "    else:\n",
    "        ease = pd.read_csv(f'RawData/자원순환정보시스템_인력/{i}', encoding='cp949', header=3,\n",
    "                            usecols=[1, 14, 15], names=['자치구','인력수','차량수']).iloc[1:]\n",
    "    ease['년도'] = int(i[:4])\n",
    "    hr = pd.concat([hr, ease])\n",
    "    \n",
    "hr.reset_index(drop=True, inplace=True)\n",
    "print(hr.shape)"
   ]
  },
  {
   "cell_type": "markdown",
   "id": "faf1fb9a",
   "metadata": {},
   "source": [
    "#### $\\blacktriangleright$ 광진구 행정동별  데이터 처리\n",
    "광진구는 재활용폐기물의 일부만 자치구에서 직영으로 처리하고 이외는 4개의 업체에 위탁처리하고 있다.\n",
    "- [인력수, 차량수] 광진구 생활폐기물 수집·운반대행 사업비 등 원가계산 연구용역 수립 보고서(p.92~96)"
   ]
  },
  {
   "cell_type": "code",
   "execution_count": 14,
   "id": "33739e06",
   "metadata": {},
   "outputs": [
    {
     "name": "stdout",
     "output_type": "stream",
     "text": [
      "(15, 3)\n"
     ]
    }
   ],
   "source": [
    "GJ_hr = pd.DataFrame([['구의1동', 7.01, 2.46], ['구의3동', 7.18, 2.51], ['광장동', 6.96, 2.44], ['화양동', 6.80, 2.43],\n",
    "                      ['자양1동', 5.10, 1.83], ['자양2동', 6.86, 2.41], ['자양3동', 6.80, 2.39], ['자양4동', 4.09, 1.46],\n",
    "                      ['중곡1동', 6.41, 2.23], ['중곡2동', 4.44, 1.60], ['능동', 4.49, 1.57], ['군자동', 4.53, 1.63],\n",
    "                      ['중곡3동', 6.01, 2.09], ['중곡4동', 5.79, 2.06], ['구의2동', 8.45, 2.93]], \n",
    "                      columns=['행정동','인력수','차량수'])\n",
    "print(GJ_hr.shape)"
   ]
  },
  {
   "cell_type": "markdown",
   "id": "a3049f12",
   "metadata": {},
   "source": [
    "### 1인세대수, 면적대비1인세대수, 외국인비율\n",
    "#### $\\blacktriangleright$ 서울 자치구별 데이터 처리"
   ]
  },
  {
   "cell_type": "code",
   "execution_count": 15,
   "id": "0826d94f",
   "metadata": {},
   "outputs": [],
   "source": [
    "HJ_seoul = pd.read_csv('RawData/현지/HJ_dataset_0424.csv', usecols=[1,2,3,4,10]).rename(columns={'행정구역':'자치구'})"
   ]
  },
  {
   "cell_type": "markdown",
   "id": "6bf70ae8",
   "metadata": {},
   "source": [
    "#### $\\blacktriangleright$ 광진구 행정동별 데이터 처리"
   ]
  },
  {
   "cell_type": "code",
   "execution_count": 16,
   "id": "27cf9f8e",
   "metadata": {},
   "outputs": [],
   "source": [
    "HJ_gwangjin = pd.read_csv('RawData/현지/HJ_gwangjin_0424.csv', usecols=[1,2,4,7]).rename(columns={'동명':'행정동'})"
   ]
  },
  {
   "cell_type": "markdown",
   "id": "4fd72621",
   "metadata": {},
   "source": [
    "### Merge Datas"
   ]
  },
  {
   "cell_type": "code",
   "execution_count": 17,
   "id": "3493ba5c",
   "metadata": {},
   "outputs": [
    {
     "name": "stdout",
     "output_type": "stream",
     "text": [
      "(125, 23)\n"
     ]
    }
   ],
   "source": [
    "seoul = area.merge(household, on=['자치구','년도']).merge(registration, on=['자치구','년도']).merge(hr, on=['자치구','년도'])\\\n",
    "        .merge(HJ_seoul, on=['자치구','년도'])\n",
    "print(seoul.shape)"
   ]
  },
  {
   "cell_type": "code",
   "execution_count": 19,
   "id": "7211c504",
   "metadata": {},
   "outputs": [
    {
     "name": "stdout",
     "output_type": "stream",
     "text": [
      "(15, 22)\n"
     ]
    }
   ],
   "source": [
    "gwangjin = GJ_area.merge(GJ_household, on='행정동').merge(GJ_registration, on='행정동').merge(GJ_hr, on='행정동')\\\n",
    "           .merge(HJ_gwangjin, on='행정동')\n",
    "print(gwangjin.shape)"
   ]
  },
  {
   "cell_type": "markdown",
   "id": "5d877d5e",
   "metadata": {},
   "source": [
    "## Feature Generation"
   ]
  },
  {
   "cell_type": "code",
   "execution_count": 20,
   "id": "a9b59e89",
   "metadata": {},
   "outputs": [],
   "source": [
    "seoul['인구밀도'] = seoul['인구'].divide(seoul['면적'], axis=0)\n",
    "gwangjin['인구밀도'] = gwangjin['인구'].divide(gwangjin['면적'], axis=0)"
   ]
  },
  {
   "cell_type": "code",
   "execution_count": 21,
   "id": "61d112c9",
   "metadata": {},
   "outputs": [],
   "source": [
    "seoul['세대당인구'] = seoul['인구'].divide(seoul['세대수'], axis=0)\n",
    "gwangjin['세대당인구'] = gwangjin['인구'].divide(gwangjin['세대수'], axis=0)"
   ]
  },
  {
   "cell_type": "code",
   "execution_count": 22,
   "id": "d5564723",
   "metadata": {},
   "outputs": [],
   "source": [
    "columns = ['출생건수', '사망건수', '혼인건수', '이혼건수']\n",
    "seoul[[f'{i[:2]}률' for i in columns]] = seoul[columns].divide(seoul['인구']/1000, axis=0)\n",
    "gwangjin[[f'{i[:2]}률' for i in columns]] = gwangjin[columns].divide(gwangjin['인구']/1000, axis=0)"
   ]
  },
  {
   "cell_type": "code",
   "execution_count": 23,
   "id": "58a012c6",
   "metadata": {},
   "outputs": [],
   "source": [
    "# 전체 가구 중 각 가구의 비율\n",
    "columns = ['one','two','three','four','five','six','seven_more']\n",
    "seoul[[f'{i}비율' for i in columns]] = seoul[columns].divide(seoul['가구수'], axis=0)\n",
    "gwangjin[[f'{i}비율' for i in columns]] = gwangjin[columns].divide(gwangjin['가구수'], axis=0)\n",
    "\n",
    "# 인구 대비 각 가구 비율\n",
    "seoul[[f'인구대비{i}' for i in columns]] = seoul[columns].divide(seoul['인구'], axis=0)\n",
    "gwangjin[[f'인구대비{i}' for i in columns]] = gwangjin[columns].divide(gwangjin['인구'], axis=0)\n",
    "\n",
    "# 면적 대비 1인 가구 비율\n",
    "seoul[[f'면적대비{i}' for i in columns]] = seoul[columns].divide(seoul['면적'], axis=0)\n",
    "gwangjin[[f'면적대비{i}' for i in columns]] = gwangjin[columns].divide(gwangjin['면적'], axis=0)"
   ]
  },
  {
   "cell_type": "markdown",
   "id": "d6ba8f86",
   "metadata": {},
   "source": [
    "### Save Data"
   ]
  },
  {
   "cell_type": "code",
   "execution_count": 24,
   "id": "f63de305",
   "metadata": {},
   "outputs": [],
   "source": [
    "# 각 데이터를 저장한다.\n",
    "seoul.to_csv('ProcessedData/인구정보_seoul.csv', index=False)\n",
    "gwangjin.to_csv('ProcessedData/인구정보_gwangjin.csv', index=False)"
   ]
  },
  {
   "cell_type": "code",
   "execution_count": null,
   "id": "9f86cb75",
   "metadata": {},
   "outputs": [],
   "source": []
  },
  {
   "cell_type": "code",
   "execution_count": null,
   "id": "2200ad29",
   "metadata": {},
   "outputs": [],
   "source": []
  }
 ],
 "metadata": {
  "kernelspec": {
   "display_name": "Python 3 (ipykernel)",
   "language": "python",
   "name": "python3"
  },
  "language_info": {
   "codemirror_mode": {
    "name": "ipython",
    "version": 3
   },
   "file_extension": ".py",
   "mimetype": "text/x-python",
   "name": "python",
   "nbconvert_exporter": "python",
   "pygments_lexer": "ipython3",
   "version": "3.9.7"
  }
 },
 "nbformat": 4,
 "nbformat_minor": 5
}
