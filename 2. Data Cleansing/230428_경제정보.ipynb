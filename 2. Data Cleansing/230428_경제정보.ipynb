{
 "cells": [
  {
   "cell_type": "markdown",
   "id": "fdd7d156",
   "metadata": {},
   "source": [
    "### Import"
   ]
  },
  {
   "cell_type": "code",
   "execution_count": 1,
   "id": "b9e64776",
   "metadata": {},
   "outputs": [],
   "source": [
    "import os\n",
    "import numpy as np\n",
    "import pandas as pd\n",
    "import matplotlib.pyplot as plt\n",
    "import seaborn as sns\n",
    "\n",
    "plt.rc('font', family='Malgun Gothic')\n",
    "plt.rc('axes', unicode_minus=False)\n",
    "import warnings ; warnings.filterwarnings('ignore')"
   ]
  },
  {
   "cell_type": "markdown",
   "id": "9f8d12d6",
   "metadata": {},
   "source": [
    "### 상권정보\n",
    "#### $\\blacktriangleright$ 서울 자치구별 데이터 처리\n",
    "동일년도 각 부문별 발생한 평균 매출금액을 의미한다.\n",
    "- [추정매출] http://data.seoul.go.kr/dataList/OA-15572/S/1/datasetView.do\n",
    "- [시군구 맵핑 데이터] https://golmok.seoul.go.kr/introduce.do"
   ]
  },
  {
   "cell_type": "code",
   "execution_count": 2,
   "id": "93996ee6",
   "metadata": {},
   "outputs": [],
   "source": [
    "store = pd.DataFrame()\n",
    "\n",
    "for i in range(2017,2021):\n",
    "    ease = pd.read_csv(f'RawData/서울시우리마을가게_상권분석/서울시_우리마을가게_상권분석서비스(신_상권_추정매출)_{i}년.csv', encoding='cp949')\n",
    "    store = pd.concat([store, ease])\n",
    "    \n",
    "store.reset_index(drop=True, inplace=True)"
   ]
  },
  {
   "cell_type": "code",
   "execution_count": 3,
   "id": "de7739b6",
   "metadata": {},
   "outputs": [],
   "source": [
    "#상권코드와 시군구_행정동 merge를 위한 데이터는 pdf형식에서 csv 파일로 변환해 사용한다.\n",
    "seoul_market = pd.read_csv('RawData/서울시우리마을가게_상권분석/seoul_v2.csv',encoding='UTF-8')\n",
    "seoul_market = seoul_market.dropna(axis=0)\n",
    "seoul_market['우리마을가게 상권분석 서비스 상권영역'] = seoul_market['우리마을가게 상권분석 서비스 상권영역'].apply(lambda x : x.split()[1:4])\n",
    "seoul_market['자치구'] = seoul_market['우리마을가게 상권분석 서비스 상권영역'].apply(lambda x : str(x[:1]).replace(\"[\",\"\").replace(\"]\",\"\").replace(\"'\",\"\"))\n",
    "seoul_market['행정동'] = seoul_market['우리마을가게 상권분석 서비스 상권영역'].apply(lambda x : str(x[1:2]).replace(\"[\",\"\").replace(\"]\",\"\").replace(\"'\",\"\"))\n",
    "seoul_market['상권_코드'] = seoul_market['우리마을가게 상권분석 서비스 상권영역'].apply(lambda x : str(x[2:3]).replace(\"[\",\"\").replace(\"]\",\"\").replace(\"'\",\"\"))\n",
    "seoul_market = seoul_market.iloc[1:,1:]\n",
    "seoul_market = seoul_market.reset_index(drop=True)\n",
    "\n",
    "seoul = ['종로구', '중구', '용산구', '성동구', '광진구', '동대문구', '중랑구', '성북구', '강북구',\n",
    "         '도봉구', '노원구', '은평구', '서대문구', '마포구', '양천구', '강서구', '구로구', '금천구',\n",
    "         '영등포구', '동작구', '관악구', '서초구', '강남구', '송파구', '강동구']\n",
    "seoul_market = seoul_market[seoul_market['자치구'].apply(lambda x : x in seoul) == True]\n",
    "seoul_market['상권_코드'] = seoul_market['상권_코드'].astype(int)"
   ]
  },
  {
   "cell_type": "code",
   "execution_count": null,
   "id": "5c7a8f38",
   "metadata": {},
   "outputs": [],
   "source": [
    "#상권데이터와 시군구 행정동 데이터를 병합한다.\n",
    "store = pd.merge(store, seoul_market, how = 'left', on = '상권_코드').rename(columns={'기준_년_코드':'년도'})\n",
    "store.drop(['상권_구분_코드','상권_구분_코드_명','상권_코드','서비스_업종_코드'], axis=1, inplace=True)"
   ]
  },
  {
   "cell_type": "code",
   "execution_count": 4,
   "id": "f02929cd",
   "metadata": {
    "scrolled": true
   },
   "outputs": [],
   "source": [
    "store['분기당_매출금액_평균'] = store['분기당_매출_금액']/store['분기당_매출_건수']\n",
    "store['주중_매출금액_평균'] = store['주중_매출_금액']/store['주중_매출_건수']\n",
    "store['주말_매출금액_평균'] = store['주말_매출_금액']/store['주말_매출_건수']\n",
    "store['월요일_매출금액_평균'] = store['월요일_매출_금액']/store['월요일_매출_건수']\n",
    "store['화요일_매출금액_평균'] = store['화요일_매출_금액']/store['화요일_매출_건수']\n",
    "store['수요일_매출금액_평균'] = store['수요일_매출_금액']/store['수요일_매출_건수']\n",
    "store['목요일_매출금액_평균'] = store['목요일_매출_금액']/store['목요일_매출_건수']\n",
    "store['금요일_매출금액_평균'] = store['금요일_매출_금액']/store['금요일_매출_건수']\n",
    "store['토요일_매출금액_평균'] = store['토요일_매출_금액']/store['토요일_매출_건수']\n",
    "store['일요일_매출금액_평균'] = store['일요일_매출_금액']/store['일요일_매출_건수']\n",
    "store['시간대_00~06_매출금액_평균'] = store['시간대_00~06_매출_금액']/store['시간대_건수~06_매출_건수']\n",
    "store['시간대_06~11_매출금액_평균'] = store['시간대_06~11_매출_금액']/store['시간대_건수~11_매출_건수']\n",
    "store['시간대_11~14_매출금액_평균'] = store['시간대_11~14_매출_금액']/store['시간대_건수~14_매출_건수']\n",
    "store['시간대_14~17_매출금액_평균'] = store['시간대_14~17_매출_금액']/store['시간대_건수~17_매출_건수']\n",
    "store['시간대_17~21_매출금액_평균'] = store['시간대_17~21_매출_금액']/store['시간대_건수~21_매출_건수']\n",
    "store['시간대_21~24_매출금액_평균'] = store['시간대_21~24_매출_금액']/store['시간대_건수~24_매출_건수']\n",
    "store['남성_매출금액_평균'] = store['남성_매출_금액']/store['남성_매출_건수']\n",
    "store['여성_매출금액_평균'] = store['여성_매출_금액']/store['여성_매출_건수']\n",
    "store['연령대_10_매출금액_평균'] = store['연령대_10_매출_금액']/store['연령대_10_매출_건수']\n",
    "store['연령대_20_매출금액_평균'] = store['연령대_20_매출_금액']/store['연령대_20_매출_건수']\n",
    "store['연령대_30_매출금액_평균'] = store['연령대_30_매출_금액']/store['연령대_30_매출_건수']\n",
    "store['연령대_40_매출금액_평균'] = store['연령대_40_매출_금액']/store['연령대_40_매출_건수']\n",
    "store['연령대_50_매출금액_평균'] = store['연령대_50_매출_금액']/store['연령대_50_매출_건수']\n",
    "store['연령대_60_이상_매출금액_평균'] = store['연령대_60_이상_매출_금액']/store['연령대_60_이상_매출_건수']"
   ]
  },
  {
   "cell_type": "code",
   "execution_count": 12,
   "id": "0596faa1",
   "metadata": {},
   "outputs": [
    {
     "ename": "ValueError",
     "evalue": "Length mismatch: Expected axis has 2 elements, new values have 25 elements",
     "output_type": "error",
     "traceback": [
      "\u001b[1;31m---------------------------------------------------------------------------\u001b[0m",
      "\u001b[1;31mValueError\u001b[0m                                Traceback (most recent call last)",
      "Input \u001b[1;32mIn [12]\u001b[0m, in \u001b[0;36m<cell line: 3>\u001b[1;34m()\u001b[0m\n\u001b[0;32m      1\u001b[0m store_sales \u001b[38;5;241m=\u001b[39m store\u001b[38;5;241m.\u001b[39mgroupby([\u001b[38;5;124m'\u001b[39m\u001b[38;5;124m년도\u001b[39m\u001b[38;5;124m'\u001b[39m,\u001b[38;5;124m'\u001b[39m\u001b[38;5;124m자치구\u001b[39m\u001b[38;5;124m'\u001b[39m])[[\u001b[38;5;124m'\u001b[39m\u001b[38;5;124m점포수\u001b[39m\u001b[38;5;124m'\u001b[39m]\u001b[38;5;241m+\u001b[39m[i \u001b[38;5;28;01mfor\u001b[39;00m i \u001b[38;5;129;01min\u001b[39;00m store\u001b[38;5;241m.\u001b[39mcolumns \u001b[38;5;28;01mif\u001b[39;00m \u001b[38;5;124m'\u001b[39m\u001b[38;5;124m평균\u001b[39m\u001b[38;5;124m'\u001b[39m \u001b[38;5;129;01min\u001b[39;00m i]]\u001b[38;5;241m.\u001b[39msum()\n\u001b[0;32m      2\u001b[0m store_sales \u001b[38;5;241m=\u001b[39m store_sales\u001b[38;5;241m.\u001b[39mfillna(\u001b[38;5;241m0\u001b[39m)\n\u001b[1;32m----> 3\u001b[0m store_sales\u001b[38;5;241m.\u001b[39mcolumns \u001b[38;5;241m=\u001b[39m [\u001b[38;5;124m'\u001b[39m\u001b[38;5;124m점포수\u001b[39m\u001b[38;5;124m'\u001b[39m,\u001b[38;5;124m'\u001b[39m\u001b[38;5;124m연도별_평균_상권_매출금액\u001b[39m\u001b[38;5;124m'\u001b[39m,\u001b[38;5;124m'\u001b[39m\u001b[38;5;124m연도별_주중_평균_상권_매출금액\u001b[39m\u001b[38;5;124m'\u001b[39m,\u001b[38;5;124m'\u001b[39m\u001b[38;5;124m연도별_주말_평균_상권_매출금액\u001b[39m\u001b[38;5;124m'\u001b[39m,\n\u001b[0;32m      4\u001b[0m                         \u001b[38;5;124m'\u001b[39m\u001b[38;5;124m연도별_월요일_평균_상권_매출금액\u001b[39m\u001b[38;5;124m'\u001b[39m,\u001b[38;5;124m'\u001b[39m\u001b[38;5;124m연도별_화요일_평균_상권_매출금액\u001b[39m\u001b[38;5;124m'\u001b[39m,\u001b[38;5;124m'\u001b[39m\u001b[38;5;124m연도별_수요일_평균_상권_매출금액\u001b[39m\u001b[38;5;124m'\u001b[39m,\n\u001b[0;32m      5\u001b[0m                         \u001b[38;5;124m'\u001b[39m\u001b[38;5;124m연도별_목요일_평균_상권_매출금액\u001b[39m\u001b[38;5;124m'\u001b[39m,\u001b[38;5;124m'\u001b[39m\u001b[38;5;124m연도별_금요일_평균_상권_매출금액\u001b[39m\u001b[38;5;124m'\u001b[39m,\u001b[38;5;124m'\u001b[39m\u001b[38;5;124m연도별_토요일_평균_상권_매출금액\u001b[39m\u001b[38;5;124m'\u001b[39m,\n\u001b[0;32m      6\u001b[0m                         \u001b[38;5;124m'\u001b[39m\u001b[38;5;124m연도별_일요일_평균_상권_매출금액\u001b[39m\u001b[38;5;124m'\u001b[39m,\u001b[38;5;124m'\u001b[39m\u001b[38;5;124m연도별_00_06_시간대_평균_상권_매출금액\u001b[39m\u001b[38;5;124m'\u001b[39m,\u001b[38;5;124m'\u001b[39m\u001b[38;5;124m연도별_06_11_시간대_평균_상권_매출금액\u001b[39m\u001b[38;5;124m'\u001b[39m,\n\u001b[0;32m      7\u001b[0m                         \u001b[38;5;124m'\u001b[39m\u001b[38;5;124m연도별_11_14_시간대_평균_상권_매출금액\u001b[39m\u001b[38;5;124m'\u001b[39m,\u001b[38;5;124m'\u001b[39m\u001b[38;5;124m연도별_14_17_시간대_평균_상권_매출금액\u001b[39m\u001b[38;5;124m'\u001b[39m,\n\u001b[0;32m      8\u001b[0m                         \u001b[38;5;124m'\u001b[39m\u001b[38;5;124m연도별_17_21_시간대_평균_상권_매출금액\u001b[39m\u001b[38;5;124m'\u001b[39m,\u001b[38;5;124m'\u001b[39m\u001b[38;5;124m연도별_21_24_시간대_평균_상권_매출금액\u001b[39m\u001b[38;5;124m'\u001b[39m,\n\u001b[0;32m      9\u001b[0m                         \u001b[38;5;124m'\u001b[39m\u001b[38;5;124m연도별_남성_평균_상권_매출금액\u001b[39m\u001b[38;5;124m'\u001b[39m,\u001b[38;5;124m'\u001b[39m\u001b[38;5;124m연도별_여성_평균_상권_매출금액\u001b[39m\u001b[38;5;124m'\u001b[39m,\u001b[38;5;124m'\u001b[39m\u001b[38;5;124m연도별_10대_평균_상권_매출금액\u001b[39m\u001b[38;5;124m'\u001b[39m,\n\u001b[0;32m     10\u001b[0m                         \u001b[38;5;124m'\u001b[39m\u001b[38;5;124m연도별_20대_평균_상권_매출금액\u001b[39m\u001b[38;5;124m'\u001b[39m,\u001b[38;5;124m'\u001b[39m\u001b[38;5;124m연도별_30대_평균_상권_매출금액\u001b[39m\u001b[38;5;124m'\u001b[39m,\u001b[38;5;124m'\u001b[39m\u001b[38;5;124m연도별_40대_평균_상권_매출금액\u001b[39m\u001b[38;5;124m'\u001b[39m,\n\u001b[0;32m     11\u001b[0m                         \u001b[38;5;124m'\u001b[39m\u001b[38;5;124m연도별_50대_평균_상권_매출금액\u001b[39m\u001b[38;5;124m'\u001b[39m,\u001b[38;5;124m'\u001b[39m\u001b[38;5;124m연도별_60대이상_평균_상권_매출금액\u001b[39m\u001b[38;5;124m'\u001b[39m]\n\u001b[0;32m     12\u001b[0m store_sales \u001b[38;5;241m=\u001b[39m store_sales\u001b[38;5;241m.\u001b[39mreset_index()\n\u001b[0;32m     13\u001b[0m \u001b[38;5;28mprint\u001b[39m(store_sales\u001b[38;5;241m.\u001b[39mshape)\n",
      "File \u001b[1;32m~\\Anaconda3\\lib\\site-packages\\pandas\\core\\generic.py:5588\u001b[0m, in \u001b[0;36mNDFrame.__setattr__\u001b[1;34m(self, name, value)\u001b[0m\n\u001b[0;32m   5586\u001b[0m \u001b[38;5;28;01mtry\u001b[39;00m:\n\u001b[0;32m   5587\u001b[0m     \u001b[38;5;28mobject\u001b[39m\u001b[38;5;241m.\u001b[39m\u001b[38;5;21m__getattribute__\u001b[39m(\u001b[38;5;28mself\u001b[39m, name)\n\u001b[1;32m-> 5588\u001b[0m     \u001b[38;5;28;01mreturn\u001b[39;00m \u001b[38;5;28;43mobject\u001b[39;49m\u001b[38;5;241;43m.\u001b[39;49m\u001b[38;5;21;43m__setattr__\u001b[39;49m\u001b[43m(\u001b[49m\u001b[38;5;28;43mself\u001b[39;49m\u001b[43m,\u001b[49m\u001b[43m \u001b[49m\u001b[43mname\u001b[49m\u001b[43m,\u001b[49m\u001b[43m \u001b[49m\u001b[43mvalue\u001b[49m\u001b[43m)\u001b[49m\n\u001b[0;32m   5589\u001b[0m \u001b[38;5;28;01mexcept\u001b[39;00m \u001b[38;5;167;01mAttributeError\u001b[39;00m:\n\u001b[0;32m   5590\u001b[0m     \u001b[38;5;28;01mpass\u001b[39;00m\n",
      "File \u001b[1;32m~\\Anaconda3\\lib\\site-packages\\pandas\\_libs\\properties.pyx:70\u001b[0m, in \u001b[0;36mpandas._libs.properties.AxisProperty.__set__\u001b[1;34m()\u001b[0m\n",
      "File \u001b[1;32m~\\Anaconda3\\lib\\site-packages\\pandas\\core\\generic.py:769\u001b[0m, in \u001b[0;36mNDFrame._set_axis\u001b[1;34m(self, axis, labels)\u001b[0m\n\u001b[0;32m    767\u001b[0m \u001b[38;5;28;01mdef\u001b[39;00m \u001b[38;5;21m_set_axis\u001b[39m(\u001b[38;5;28mself\u001b[39m, axis: \u001b[38;5;28mint\u001b[39m, labels: Index) \u001b[38;5;241m-\u001b[39m\u001b[38;5;241m>\u001b[39m \u001b[38;5;28;01mNone\u001b[39;00m:\n\u001b[0;32m    768\u001b[0m     labels \u001b[38;5;241m=\u001b[39m ensure_index(labels)\n\u001b[1;32m--> 769\u001b[0m     \u001b[38;5;28;43mself\u001b[39;49m\u001b[38;5;241;43m.\u001b[39;49m\u001b[43m_mgr\u001b[49m\u001b[38;5;241;43m.\u001b[39;49m\u001b[43mset_axis\u001b[49m\u001b[43m(\u001b[49m\u001b[43maxis\u001b[49m\u001b[43m,\u001b[49m\u001b[43m \u001b[49m\u001b[43mlabels\u001b[49m\u001b[43m)\u001b[49m\n\u001b[0;32m    770\u001b[0m     \u001b[38;5;28mself\u001b[39m\u001b[38;5;241m.\u001b[39m_clear_item_cache()\n",
      "File \u001b[1;32m~\\Anaconda3\\lib\\site-packages\\pandas\\core\\internals\\managers.py:214\u001b[0m, in \u001b[0;36mBaseBlockManager.set_axis\u001b[1;34m(self, axis, new_labels)\u001b[0m\n\u001b[0;32m    212\u001b[0m \u001b[38;5;28;01mdef\u001b[39;00m \u001b[38;5;21mset_axis\u001b[39m(\u001b[38;5;28mself\u001b[39m, axis: \u001b[38;5;28mint\u001b[39m, new_labels: Index) \u001b[38;5;241m-\u001b[39m\u001b[38;5;241m>\u001b[39m \u001b[38;5;28;01mNone\u001b[39;00m:\n\u001b[0;32m    213\u001b[0m     \u001b[38;5;66;03m# Caller is responsible for ensuring we have an Index object.\u001b[39;00m\n\u001b[1;32m--> 214\u001b[0m     \u001b[38;5;28;43mself\u001b[39;49m\u001b[38;5;241;43m.\u001b[39;49m\u001b[43m_validate_set_axis\u001b[49m\u001b[43m(\u001b[49m\u001b[43maxis\u001b[49m\u001b[43m,\u001b[49m\u001b[43m \u001b[49m\u001b[43mnew_labels\u001b[49m\u001b[43m)\u001b[49m\n\u001b[0;32m    215\u001b[0m     \u001b[38;5;28mself\u001b[39m\u001b[38;5;241m.\u001b[39maxes[axis] \u001b[38;5;241m=\u001b[39m new_labels\n",
      "File \u001b[1;32m~\\Anaconda3\\lib\\site-packages\\pandas\\core\\internals\\base.py:69\u001b[0m, in \u001b[0;36mDataManager._validate_set_axis\u001b[1;34m(self, axis, new_labels)\u001b[0m\n\u001b[0;32m     66\u001b[0m     \u001b[38;5;28;01mpass\u001b[39;00m\n\u001b[0;32m     68\u001b[0m \u001b[38;5;28;01melif\u001b[39;00m new_len \u001b[38;5;241m!=\u001b[39m old_len:\n\u001b[1;32m---> 69\u001b[0m     \u001b[38;5;28;01mraise\u001b[39;00m \u001b[38;5;167;01mValueError\u001b[39;00m(\n\u001b[0;32m     70\u001b[0m         \u001b[38;5;124mf\u001b[39m\u001b[38;5;124m\"\u001b[39m\u001b[38;5;124mLength mismatch: Expected axis has \u001b[39m\u001b[38;5;132;01m{\u001b[39;00mold_len\u001b[38;5;132;01m}\u001b[39;00m\u001b[38;5;124m elements, new \u001b[39m\u001b[38;5;124m\"\u001b[39m\n\u001b[0;32m     71\u001b[0m         \u001b[38;5;124mf\u001b[39m\u001b[38;5;124m\"\u001b[39m\u001b[38;5;124mvalues have \u001b[39m\u001b[38;5;132;01m{\u001b[39;00mnew_len\u001b[38;5;132;01m}\u001b[39;00m\u001b[38;5;124m elements\u001b[39m\u001b[38;5;124m\"\u001b[39m\n\u001b[0;32m     72\u001b[0m     )\n",
      "\u001b[1;31mValueError\u001b[0m: Length mismatch: Expected axis has 2 elements, new values have 25 elements"
     ]
    }
   ],
   "source": [
    "store_sales = store.groupby(['년도','자치구'])[['점포수']+[i for i in store.columns if '평균' in i]].sum()\n",
    "store_sales = store_sales.fillna(0)\n",
    "store_sales.columns = ['점포수','연도별_평균_상권_매출금액','연도별_주중_평균_상권_매출금액','연도별_주말_평균_상권_매출금액',\n",
    "                        '연도별_월요일_평균_상권_매출금액','연도별_화요일_평균_상권_매출금액','연도별_수요일_평균_상권_매출금액',\n",
    "                        '연도별_목요일_평균_상권_매출금액','연도별_금요일_평균_상권_매출금액','연도별_토요일_평균_상권_매출금액',\n",
    "                        '연도별_일요일_평균_상권_매출금액','연도별_00_06_시간대_평균_상권_매출금액','연도별_06_11_시간대_평균_상권_매출금액',\n",
    "                        '연도별_11_14_시간대_평균_상권_매출금액','연도별_14_17_시간대_평균_상권_매출금액',\n",
    "                        '연도별_17_21_시간대_평균_상권_매출금액','연도별_21_24_시간대_평균_상권_매출금액',\n",
    "                        '연도별_남성_평균_상권_매출금액','연도별_여성_평균_상권_매출금액','연도별_10대_평균_상권_매출금액',\n",
    "                        '연도별_20대_평균_상권_매출금액','연도별_30대_평균_상권_매출금액','연도별_40대_평균_상권_매출금액',\n",
    "                        '연도별_50대_평균_상권_매출금액','연도별_60대이상_평균_상권_매출금액']\n",
    "store_sales = store_sales.reset_index()\n",
    "print(store_sales.shape)"
   ]
  },
  {
   "cell_type": "markdown",
   "id": "ff2cf2b3",
   "metadata": {},
   "source": [
    "#### $\\blacktriangleright$ 광진구 행정동별 데이터 처리\n",
    "- 서울 자치구별 데이터를 재사용한다."
   ]
  },
  {
   "cell_type": "code",
   "execution_count": 11,
   "id": "4b1e9fcb",
   "metadata": {},
   "outputs": [],
   "source": [
    "GJ_dong = ['화양동', '군자동', '중곡1동', '중곡2동', '중곡3동', '중곡4동', '능동', '광장동', '자양1동',\n",
    "           '자양2동', '자양3동', '자양4동', '구의1동', '구의2동', '구의3동']\n",
    "GJ_store = store.query('년도==2020 & 행정동 in @GJ_dong')"
   ]
  },
  {
   "cell_type": "code",
   "execution_count": null,
   "id": "59161d18",
   "metadata": {},
   "outputs": [],
   "source": [
    "GJ_store_sales = GJ_store.groupby('행정동')[['점포수']+[i for i in store.columns if '평균' in i]].mean()\n",
    "GJ_store_sales = GJ_store_sales.fillna(0)\n",
    "GJ_store_sales.columns = store_sales.columns[2:]\n",
    "GJ_store_sales = GJ_store_sales.reset_index()\n",
    "print(GJ_store_sales.shape)"
   ]
  },
  {
   "cell_type": "markdown",
   "id": "a3049f12",
   "metadata": {},
   "source": [
    "## Save Data"
   ]
  },
  {
   "cell_type": "code",
   "execution_count": 9,
   "id": "f63de305",
   "metadata": {},
   "outputs": [],
   "source": [
    "# 각 데이터를 저장한다.\n",
    "store_sales.to_csv('ProcessedData/경제정보_seoul.csv', index=False)\n",
    "GJ_store_sales.to_csv('ProcessedData/경제정보_gwangjin.csv', index=False)"
   ]
  },
  {
   "cell_type": "code",
   "execution_count": null,
   "id": "9f86cb75",
   "metadata": {},
   "outputs": [],
   "source": []
  },
  {
   "cell_type": "code",
   "execution_count": null,
   "id": "c4ea784e",
   "metadata": {},
   "outputs": [],
   "source": []
  },
  {
   "cell_type": "code",
   "execution_count": null,
   "id": "bc01d9ac",
   "metadata": {},
   "outputs": [],
   "source": []
  },
  {
   "cell_type": "code",
   "execution_count": null,
   "id": "51383813",
   "metadata": {},
   "outputs": [],
   "source": []
  }
 ],
 "metadata": {
  "kernelspec": {
   "display_name": "Python 3 (ipykernel)",
   "language": "python",
   "name": "python3"
  },
  "language_info": {
   "codemirror_mode": {
    "name": "ipython",
    "version": 3
   },
   "file_extension": ".py",
   "mimetype": "text/x-python",
   "name": "python",
   "nbconvert_exporter": "python",
   "pygments_lexer": "ipython3",
   "version": "3.9.7"
  }
 },
 "nbformat": 4,
 "nbformat_minor": 5
}
