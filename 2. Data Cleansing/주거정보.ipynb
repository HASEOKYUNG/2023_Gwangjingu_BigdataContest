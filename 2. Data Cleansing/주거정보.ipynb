{
 "cells": [
  {
   "cell_type": "markdown",
   "id": "fdd7d156",
   "metadata": {},
   "source": [
    "### Import"
   ]
  },
  {
   "cell_type": "code",
   "execution_count": 1,
   "id": "b9e64776",
   "metadata": {},
   "outputs": [],
   "source": [
    "import os\n",
    "import numpy as np\n",
    "import pandas as pd\n",
    "import matplotlib.pyplot as plt\n",
    "import seaborn as sns\n",
    "\n",
    "plt.rc('font', family='Malgun Gothic')\n",
    "plt.rc('axes', unicode_minus=False)\n",
    "import warnings ; warnings.filterwarnings('ignore')"
   ]
  },
  {
   "cell_type": "markdown",
   "id": "76d9f806",
   "metadata": {},
   "source": [
    "### 주택수, 단독주택, 다가구주택수\n",
    "1인 가구의 영향력을 보기 위해 주택수를 구하며 1인 가구의 주거주형태인 단독주택, 다가구주택수를 구한다.\n",
    "#### $\\blacktriangleright$ 서울 자치구별 데이터 처리\n",
    "한 번에 6개년 데이터를 다운받으려 하면 오류가 나 3개년씩 나누어 저장한다.\n",
    "- [주택분포] https://data.seoul.go.kr/dataList/10585/S/2/datasetView.do"
   ]
  },
  {
   "cell_type": "code",
   "execution_count": 2,
   "id": "b2295516",
   "metadata": {},
   "outputs": [],
   "source": [
    "housetype17 = pd.read_csv('RawData/주택종류별+주택-+읍면동(연도+끝자리+0,5),+시군구(그+외+연도)_20230417222822.csv').iloc[4:]\n",
    "housetype20 = pd.read_csv('RawData/주택종류별+주택-+읍면동(연도+끝자리+0,5),+시군구(그+외+연도)_20230417222808.csv').iloc[4:]"
   ]
  },
  {
   "cell_type": "code",
   "execution_count": 3,
   "id": "e5809486",
   "metadata": {},
   "outputs": [
    {
     "name": "stdout",
     "output_type": "stream",
     "text": [
      "(150, 6)\n"
     ]
    }
   ],
   "source": [
    "housetype = pd.DataFrame()\n",
    "\n",
    "for i in range(3,30,9):\n",
    "    ease = pd.concat([housetype17.iloc[:, 1], housetype17.iloc[:,[i,i+1,i+3,i+5]]], axis=1)\n",
    "    ease.columns = ['자치구','주택수','단독주택수', '다가구주택수','아파트수']\n",
    "    ease['년도'] = int(housetype17.columns[i])\n",
    "    housetype = pd.concat([housetype, ease])\n",
    "    \n",
    "for i in range(3,30,9):\n",
    "    ease = pd.concat([housetype20.iloc[:, 1], housetype20.iloc[:,[i,i+1,i+3,i+5]]], axis=1)\n",
    "    ease.columns = ['자치구','주택수','단독주택수', '다가구주택수','아파트수']\n",
    "    ease['년도'] = int(housetype20.columns[i])\n",
    "    housetype = pd.concat([housetype, ease])\n",
    "    \n",
    "housetype[['주택수', '단독주택수', '다가구주택수', '아파트수']] = housetype[['주택수', '단독주택수', '다가구주택수', '아파트수']].astype('i')\n",
    "housetype.reset_index(drop=True, inplace=True)\n",
    "print(housetype.shape)"
   ]
  },
  {
   "cell_type": "markdown",
   "id": "814b27e6",
   "metadata": {},
   "source": [
    "#### $\\blacktriangleright$ 광진구 행정동별 데이터 처리\n",
    "- [주택수] https://data.seoul.go.kr/dataList/10585/S/2/datasetView.do"
   ]
  },
  {
   "cell_type": "code",
   "execution_count": 4,
   "id": "6d809c08",
   "metadata": {
    "scrolled": true
   },
   "outputs": [
    {
     "data": {
      "text/plain": [
       "(15, 5)"
      ]
     },
     "execution_count": 4,
     "metadata": {},
     "output_type": "execute_result"
    }
   ],
   "source": [
    "GJ_housetype = pd.read_csv('RawData/주택종류별+주택-+읍면동(연도+끝자리+0,5),+시군구(그+외+연도)_20230423115920.csv')\n",
    "GJ_housetype = GJ_housetype[GJ_housetype.iloc[:,1]==\"광진구\"].iloc[1:,[2,3,4,6,8]].reset_index(drop=True)\n",
    "GJ_housetype.columns = ['행정동','주택수','단독주택수', '다가구주택수','아파트수']\n",
    "GJ_housetype[['주택수', '단독주택수', '다가구주택수', '아파트수']] = GJ_housetype[['주택수', '단독주택수', '다가구주택수', '아파트수']].astype('i')\n",
    "GJ_housetype.shape"
   ]
  },
  {
   "cell_type": "markdown",
   "id": "b77d64d4",
   "metadata": {},
   "source": [
    "### 전월세 거래와 다가구주택의 거래 정보\n",
    "#### $\\blacktriangleright$ 서울 자치구별 데이터 처리\n",
    "- [전월세가격] https://data.seoul.go.kr/dataList/OA-21276/S/1/datasetView.do"
   ]
  },
  {
   "cell_type": "code",
   "execution_count": 5,
   "id": "ce2b8fbf",
   "metadata": {},
   "outputs": [
    {
     "name": "stdout",
     "output_type": "stream",
     "text": [
      "(150, 20)\n"
     ]
    }
   ],
   "source": [
    "rent = pd.DataFrame()\n",
    "\n",
    "for i in range(2015, 2021):\n",
    "    raw_rent = pd.read_table(f'RawData/서울열린광장_전월세가/서울특별시_전월세가_{i}.txt', sep=',',encoding='cp949',\n",
    "                             usecols=[2,11,12,13,14,17])\n",
    "    \n",
    "    # 아파트를 월세로 거래하는 사람은 극히 일부기에 월세와 관해선 다가구주택 정보만 생성한다.\n",
    "    monthly = raw_rent.query('전월세구분==\"월세\"')\n",
    "    ease_m = pd.concat([monthly.groupby('자치구명')['임대면적'].size(),\n",
    "                        monthly.groupby('자치구명')[['임대면적','보증금(만원)','임대료(만원)']].mean()], axis=1)\n",
    "\n",
    "    monthly = monthly.query('건물용도==\"단독다가구\"')\n",
    "    ease_m = pd.concat([ease_m,\n",
    "                        monthly.groupby('자치구명')['임대면적'].size(),\n",
    "                        monthly.groupby('자치구명')[['임대면적','보증금(만원)','임대료(만원)']].mean()], axis=1)\n",
    "\n",
    "    ease_m.columns = ['월세거래수','월세평균임대면적','월세평균보증금액','월세평균임대료액']\\\n",
    "                      +['다가구주택_월세거래수', '다가구주택_월세평균임대면적','다가구주택_월세평균보증금액','다가구주택_월세평균임대료액']\n",
    "\n",
    "    # 다가구주택과 아파트의 전세 정보를 생성하며 전세는 임대료를 내지 않기에 임대료 정보는 생성하지 않는다.\n",
    "    charter = raw_rent.query('전월세구분==\"전세\"')\n",
    "    ease_c = pd.concat([charter.groupby('자치구명')['임대면적'].size(),\n",
    "                        charter.groupby('자치구명')[['임대면적','보증금(만원)']].mean()], axis=1)\n",
    "\n",
    "    charter = charter.query('건물용도==\"단독다가구\" | 건물용도==\"아파트\"')\n",
    "    ease_c = pd.concat([ease_c,\n",
    "                        pd.pivot_table(charter, index='자치구명', columns='건물용도', values='임대면적', aggfunc=np.size),\n",
    "                        pd.pivot_table(charter, index='자치구명', columns='건물용도', \n",
    "                                       values=['임대면적','보증금(만원)'], aggfunc=np.mean)], axis=1)\n",
    "\n",
    "    ease_c.columns = ['전세거래수','전세평균임대면적','전세평균보증금액']\\\n",
    "                      +['다가구주택_전세거래수', '아파트_전세거래수']\\\n",
    "                      +['다가구주택_전세평균임대면적', '아파트_전세평균임대면적',\n",
    "                        '다가구주택_전세평균보증금액', '아파트_전세평균보증금액']\n",
    "    ease = pd.concat([ease_m, ease_c], axis=1).reset_index().rename(columns={'자치구명':'자치구'})\n",
    "    ease['임대거래수'] = ease['월세거래수']+ease['전세거래수']\n",
    "    ease['년도'] = i\n",
    "    rent = pd.concat([rent, ease])\n",
    "    \n",
    "rent.reset_index(drop=True, inplace=True)\n",
    "print(rent.shape)"
   ]
  },
  {
   "cell_type": "markdown",
   "id": "d74d36c5",
   "metadata": {},
   "source": [
    "#### $\\blacktriangleright$ 광진구 행정동별 데이터 처리"
   ]
  },
  {
   "cell_type": "code",
   "execution_count": 6,
   "id": "51e43d2f",
   "metadata": {},
   "outputs": [],
   "source": [
    "raw_rent = pd.read_table('RawData/서울열린광장_전월세가/서울특별시_전월세가_2020.txt', sep=',',encoding='cp949',\n",
    "                         usecols=[2,4,11,12,13,14,17]).query('자치구명==\"광진구\"')"
   ]
  },
  {
   "cell_type": "code",
   "execution_count": 7,
   "id": "b50c66ca",
   "metadata": {},
   "outputs": [],
   "source": [
    "# 아파트를 월세로 거래하는 사람은 극히 일부기에 월세와 관해선 다가구주택 정보만 생성한다.\n",
    "monthly = raw_rent.query('전월세구분==\"월세\"')\n",
    "ease_m = pd.concat([monthly.groupby('법정동명')['임대면적'].size(),\n",
    "                    monthly.groupby('법정동명')[['임대면적','보증금(만원)','임대료(만원)']].mean()], axis=1)\n",
    "\n",
    "monthly = monthly.query('건물용도==\"단독다가구\"')\n",
    "ease_m = pd.concat([ease_m,\n",
    "                    monthly.groupby('법정동명')['임대면적'].size(),\n",
    "                    monthly.groupby('법정동명')[['임대면적','보증금(만원)','임대료(만원)']].mean()], axis=1)\n",
    "\n",
    "ease_m.columns = ['월세거래수','월세평균임대면적','월세평균보증금액','월세평균임대료액']\\\n",
    "                  +['다가구주택_월세거래수', '다가구주택_월세평균임대면적','다가구주택_월세평균보증금액','다가구주택_월세평균임대료액']"
   ]
  },
  {
   "cell_type": "code",
   "execution_count": 8,
   "id": "2344296c",
   "metadata": {},
   "outputs": [],
   "source": [
    "# 다가구주택과 아파트의 전세 정보를 생성하며 전세는 임대료를 내지 않기에 임대료 정보는 생성하지 않는다.\n",
    "charter = raw_rent.query('전월세구분==\"전세\"')\n",
    "ease_c = pd.concat([charter.groupby('법정동명')['임대면적'].size(),\n",
    "                    charter.groupby('법정동명')[['임대면적','보증금(만원)']].mean()], axis=1)\n",
    "\n",
    "charter = charter.query('건물용도==\"단독다가구\" | 건물용도==\"아파트\"')\n",
    "ease_c = pd.concat([ease_c,\n",
    "                    pd.pivot_table(charter, index='법정동명', columns='건물용도', values='임대면적', aggfunc=np.size),\n",
    "                    pd.pivot_table(charter, index='법정동명', columns='건물용도', \n",
    "                                   values=['임대면적','보증금(만원)'], aggfunc=np.mean)], axis=1)\n",
    "\n",
    "ease_c.columns = ['전세거래수','전세평균임대면적','전세평균보증금액']\\\n",
    "                  +['다가구주택_전세거래수', '아파트_전세거래수']\\\n",
    "                  +['다가구주택_전세평균임대면적', '아파트_전세평균임대면적',\n",
    "                    '다가구주택_전세평균보증금액', '아파트_전세평균보증금액']"
   ]
  },
  {
   "cell_type": "code",
   "execution_count": 9,
   "id": "d902907b",
   "metadata": {},
   "outputs": [
    {
     "name": "stdout",
     "output_type": "stream",
     "text": [
      "(15, 19)\n"
     ]
    }
   ],
   "source": [
    "GJ_rent = pd.concat([ease_m, ease_c], axis=1)\n",
    "GJ_rent['임대거래수'] = GJ_rent['월세거래수']+GJ_rent['전세거래수']\n",
    "\n",
    "# 법정동으로 작성되어 있어 행정동으로 개수를 늘려야 한다.\n",
    "GJ_rent = pd.concat([GJ_rent, \n",
    "                     pd.DataFrame([GJ_rent.loc[\"중곡동\"].tolist()]*4+[GJ_rent.loc[\"자양동\"].tolist()]*4+[GJ_rent.loc[\"구의동\"].tolist()]*3, \n",
    "                                  index=[f'중곡{i}동' for i in range(1,5)]+[f'자양{i}동' for i in range(1,5)]+[f'구의{i}동' for i in range(1,4)],\n",
    "                                   columns=GJ_rent.columns)])\n",
    "GJ_rent.drop(['중곡동','자양동','구의동'], inplace=True)\n",
    "GJ_rent.reset_index(inplace=True)\n",
    "GJ_rent = GJ_rent.rename(columns={'index':'행정동'})\n",
    "print(GJ_rent.shape)"
   ]
  },
  {
   "cell_type": "markdown",
   "id": "dac7d54e",
   "metadata": {},
   "source": [
    "### 부동산 실거래가\n",
    "#### $\\blacktriangleright$ 서울 자치구별 데이터 처리\n",
    "- [실거래가] https://data.seoul.go.kr/dataList/OA-21275/S/1/datasetView.do"
   ]
  },
  {
   "cell_type": "code",
   "execution_count": 10,
   "id": "44754aa7",
   "metadata": {},
   "outputs": [],
   "source": [
    "raw_rp = pd.read_csv('RawData/서울시 부동산 실거래가 정보.csv', encoding='cp949',\n",
    "                     usecols=[0,2,4,11,12,18]).query('2015 <= 접수연도 <= 2020')"
   ]
  },
  {
   "cell_type": "code",
   "execution_count": 11,
   "id": "e3d5f549",
   "metadata": {},
   "outputs": [
    {
     "name": "stdout",
     "output_type": "stream",
     "text": [
      "(150, 11)\n"
     ]
    }
   ],
   "source": [
    "rp = raw_rp.groupby(['자치구명','접수연도']).agg({'물건금액(만원)':[np.size, np.mean], '건물면적(㎡)':np.mean})\n",
    "\n",
    "raw_rp2 = raw_rp.query('건물용도==\"단독다가구\"')\n",
    "rp = pd.concat([rp,\n",
    "                raw_rp2.groupby(['자치구명','접수연도']).agg({'물건금액(만원)':[np.size, np.mean], '건물면적(㎡)':np.mean})], axis=1)\n",
    "\n",
    "raw_rp2 = raw_rp.query('건물용도==\"아파트\"')\n",
    "rp = pd.concat([rp,\n",
    "                raw_rp2.groupby(['자치구명','접수연도']).agg({'물건금액(만원)':[np.size, np.mean], '건물면적(㎡)':np.mean})], axis=1).reset_index()\n",
    "\n",
    "rp.columns = ['자치구','년도','실거래수','평균실거래가','평균거래면적']\\\n",
    "              +['다가구주택_실거래수','다가구주택_평균실거래가','다가구주택_평균거래면적']\\\n",
    "              +['아파트_실거래수','아파트_평균실거래가','아파트_평균거래면적']\n",
    "print(rp.shape)"
   ]
  },
  {
   "cell_type": "markdown",
   "id": "dfa576f9",
   "metadata": {},
   "source": [
    "#### $\\blacktriangleright$ 광진구 행정동별 데이터 처리\n",
    "- 서울 자치구별 데이터를 재사용한다."
   ]
  },
  {
   "cell_type": "code",
   "execution_count": 12,
   "id": "65dfca2a",
   "metadata": {},
   "outputs": [],
   "source": [
    "raw_rp = raw_rp.query('자치구명==\"광진구\" & 접수연도== 2020')"
   ]
  },
  {
   "cell_type": "code",
   "execution_count": 13,
   "id": "e67f9ad3",
   "metadata": {},
   "outputs": [],
   "source": [
    "GJ_rp = raw_rp.groupby('법정동명').agg({'물건금액(만원)':[np.size, np.mean], '건물면적(㎡)':np.mean})\n",
    "\n",
    "raw_rp2 = raw_rp.query('건물용도==\"단독다가구\"')\n",
    "GJ_rp = pd.concat([GJ_rp,\n",
    "                   raw_rp2.groupby('법정동명').agg({'물건금액(만원)':[np.size, np.mean], '건물면적(㎡)':np.mean})], axis=1)\n",
    "\n",
    "raw_rp2 = raw_rp.query('건물용도==\"아파트\"')\n",
    "GJ_rp = pd.concat([GJ_rp,\n",
    "                   raw_rp2.groupby('법정동명').agg({'물건금액(만원)':[np.size, np.mean], '건물면적(㎡)':np.mean})], axis=1)\n",
    "\n",
    "GJ_rp.columns = ['실거래수','평균실거래가','평균거래면적']\\\n",
    "                +['다가구주택_실거래수','다가구주택_평균실거래가','다가구주택_평균거래면적']\\\n",
    "                +['아파트_실거래수','아파트_평균실거래가','아파트_평균거래면적']"
   ]
  },
  {
   "cell_type": "code",
   "execution_count": 14,
   "id": "dad57d0d",
   "metadata": {},
   "outputs": [
    {
     "name": "stdout",
     "output_type": "stream",
     "text": [
      "(15, 10)\n"
     ]
    }
   ],
   "source": [
    "# 법정동으로 작성되어 있어 행정동으로 개수를 늘려야 한다.\n",
    "GJ_rp = pd.concat([GJ_rp, \n",
    "                  pd.DataFrame([GJ_rp.loc[\"중곡동\"].tolist()]*4+[GJ_rp.loc[\"자양동\"].tolist()]*4+[GJ_rp.loc[\"구의동\"].tolist()]*3, \n",
    "                                index=[f'중곡{i}동' for i in range(1,5)]+[f'자양{i}동' for i in range(1,5)]+[f'구의{i}동' for i in range(1,4)],\n",
    "                                columns=GJ_rp.columns)])\n",
    "GJ_rp.drop(['중곡동','자양동','구의동'], inplace=True)\n",
    "GJ_rp.reset_index(inplace=True)\n",
    "GJ_rp = GJ_rp.rename(columns={'index':'행정동'})\n",
    "print(GJ_rp.shape)"
   ]
  },
  {
   "cell_type": "markdown",
   "id": "ba46ccf1",
   "metadata": {},
   "source": [
    "### 지가변동률\n",
    "#### $\\blacktriangleright$ 서울 자치구별 데이터 처리\n",
    "- [통계청] https://kosis.kr/statHtml/statHtml.do?orgId=408&tblId=DT_31501N_010&vw_cd=MT_ZTITLE&list_id=I2_7&scrId=&seqNo=&lang_mode=ko&obj_var_id=&itm_id=&conn_path=K1&path=%25EA%25B5%25AD%25ED%2586%25A0%25EC%259D%25B4%25EC%259A%25A9%2520%253E%2520%25EC%25A0%2584%25EA%25B5%25AD%25EC%25A7%2580%25EA%25B0%2580%25EB%25B3%2580%25EB%258F%2599%25EB%25A5%25A0%25EC%25A1%25B0%25EC%2582%25AC%25EC%259D%258D%25EB%25A9%25B4%25EB%258F%2599%25EB%25B3%2584%2520%25EC%25A7%2580%25EA%25B0%2580%25EB%25B3%2580%25EB%258F%2599%25EB%25A5%25A0"
   ]
  },
  {
   "cell_type": "code",
   "execution_count": 15,
   "id": "2f82273e",
   "metadata": {},
   "outputs": [],
   "source": [
    "raw_fr_land = pd.DataFrame()\n",
    "\n",
    "for i in os.listdir('RawData/통계청_지가변동률'):\n",
    "    ease = pd.read_csv(f'RawData/통계청_지가변동률/{i}', encoding='cp949')\n",
    "    ease = ease[(ease.iloc[:,0]==\"서울\") & (ease.iloc[:,2]==\"소계\")].iloc[1:].set_index('읍면동별(2)').iloc[:,2:]\n",
    "    raw_fr_land = pd.concat([raw_fr_land, ease], axis=1)\n",
    "    \n",
    "raw_fr_land = raw_fr_land.astype('f')"
   ]
  },
  {
   "cell_type": "code",
   "execution_count": 16,
   "id": "b2f81aa0",
   "metadata": {},
   "outputs": [
    {
     "name": "stdout",
     "output_type": "stream",
     "text": [
      "(125, 3)\n"
     ]
    }
   ],
   "source": [
    "fr_land = pd.DataFrame()\n",
    "\n",
    "for i in range(2016,2021):\n",
    "    ease = raw_fr_land[[x for x in raw_fr_land.columns if str(i) in x]].mean(axis=1).reset_index()\n",
    "    ease.columns = ['자치구','지가변동률']\n",
    "    ease['년도'] = i\n",
    "    fr_land = pd.concat([fr_land, ease])\n",
    "    \n",
    "fr_land.reset_index(drop=True, inplace=True)\n",
    "print(fr_land.shape)"
   ]
  },
  {
   "cell_type": "markdown",
   "id": "e46b42bb",
   "metadata": {},
   "source": [
    "#### $\\blacktriangleright$ 광진구 행정동별 데이터 처리\n",
    "- 서울 자치구별 데이터를 재사용한다."
   ]
  },
  {
   "cell_type": "code",
   "execution_count": 17,
   "id": "ef5ba483",
   "metadata": {},
   "outputs": [],
   "source": [
    "raw_fr_land = pd.DataFrame()\n",
    "\n",
    "for i in os.listdir('RawData/통계청_지가변동률'):\n",
    "    ease = pd.read_csv(f'RawData/통계청_지가변동률/{i}', encoding='cp949')\n",
    "    for j in ease.columns:\n",
    "        if '2020' in j:\n",
    "            ease = ease[ease.iloc[:,1]==\"광진구\"].iloc[1:].set_index('읍면동별(3)').iloc[:,2:]\n",
    "            raw_fr_land = pd.concat([raw_fr_land, ease], axis=1)\n",
    "            break\n",
    "    \n",
    "raw_fr_land = raw_fr_land.astype('f')"
   ]
  },
  {
   "cell_type": "code",
   "execution_count": 18,
   "id": "89c2e86d",
   "metadata": {
    "scrolled": true
   },
   "outputs": [
    {
     "name": "stdout",
     "output_type": "stream",
     "text": [
      "(15, 2)\n"
     ]
    }
   ],
   "source": [
    "GJ_fr_land = raw_fr_land.iloc[:,-12:].mean(axis=1)\n",
    "GJ_fr_land = pd.concat([GJ_fr_land, \n",
    "                        pd.Series([GJ_fr_land.loc['중곡동']]*4+[GJ_fr_land.loc['자양동']]*4+[GJ_fr_land.loc['구의동']]*3,\n",
    "                                  index=[f'중곡{i}동' for i in range(1,5)]+[f'자양{i}동' for i in range(1,5)]+[f'구의{i}동' for i in range(1,4)],\n",
    "                                  name='읍면동별(3)')])\n",
    "\n",
    "GJ_fr_land.drop(['중곡동','자양동','구의동'], inplace=True)\n",
    "GJ_fr_land = GJ_fr_land.reset_index()\n",
    "GJ_fr_land.columns = ['행정동','지가변동률']\n",
    "print(GJ_fr_land.shape)"
   ]
  },
  {
   "cell_type": "markdown",
   "id": "0caa2223",
   "metadata": {},
   "source": [
    "### Merge Datas"
   ]
  },
  {
   "cell_type": "code",
   "execution_count": 19,
   "id": "35c46024",
   "metadata": {
    "scrolled": true
   },
   "outputs": [
    {
     "name": "stdout",
     "output_type": "stream",
     "text": [
      "(125, 34)\n"
     ]
    }
   ],
   "source": [
    "seoul = housetype.merge(rent, on=['자치구','년도']).merge(rp, on=['자치구','년도']).merge(fr_land, on=['자치구','년도'])\n",
    "print(seoul.shape)"
   ]
  },
  {
   "cell_type": "code",
   "execution_count": 20,
   "id": "da210edf",
   "metadata": {
    "scrolled": true
   },
   "outputs": [
    {
     "name": "stdout",
     "output_type": "stream",
     "text": [
      "(15, 33)\n"
     ]
    }
   ],
   "source": [
    "gwangjin = GJ_housetype.merge(GJ_rent, on='행정동').merge(GJ_rp, on='행정동').merge(GJ_fr_land, on='행정동')\n",
    "print(gwangjin.shape)"
   ]
  },
  {
   "cell_type": "markdown",
   "id": "e10573fa",
   "metadata": {},
   "source": [
    "## Feature Generation"
   ]
  },
  {
   "cell_type": "code",
   "execution_count": 21,
   "id": "21c95bde",
   "metadata": {},
   "outputs": [],
   "source": [
    "seoul['아파트비율'] = seoul['아파트수'].divide(seoul['주택수'], axis=0)\n",
    "gwangjin['아파트비율'] = gwangjin['아파트수'].divide(gwangjin['주택수'], axis=0)"
   ]
  },
  {
   "cell_type": "code",
   "execution_count": 22,
   "id": "856caee7",
   "metadata": {},
   "outputs": [],
   "source": [
    "seoul['단독주택비율'] = seoul['단독주택수'].divide(seoul['주택수'], axis=0)\n",
    "gwangjin['단독주택비율'] = gwangjin['단독주택수'].divide(gwangjin['주택수'], axis=0)"
   ]
  },
  {
   "cell_type": "code",
   "execution_count": 23,
   "id": "8b652d5f",
   "metadata": {},
   "outputs": [],
   "source": [
    "seoul['단독주택_내_다가구주택_비율'] = seoul['다가구주택수'].divide(seoul['단독주택수'], axis=0)\n",
    "gwangjin['단독주택_내_다가구주택_비율'] = gwangjin['다가구주택수'].divide(gwangjin['단독주택수'], axis=0)"
   ]
  },
  {
   "cell_type": "code",
   "execution_count": 24,
   "id": "19dcc7dd",
   "metadata": {},
   "outputs": [],
   "source": [
    "seoul['월세비율'] = seoul['월세거래수'].divide(seoul['임대거래수'], axis=0)\n",
    "gwangjin['월세비율'] = gwangjin['월세거래수'].divide(gwangjin['임대거래수'], axis=0)"
   ]
  },
  {
   "cell_type": "code",
   "execution_count": 25,
   "id": "a83f3345",
   "metadata": {},
   "outputs": [],
   "source": [
    "seoul['다가구주택_전월세비율'] = seoul['다가구주택_월세거래수'].divide(seoul['다가구주택_전세거래수'], axis=0)\n",
    "gwangjin['다가구주택_전월세비율'] = gwangjin['다가구주택_월세거래수'].divide(gwangjin['다가구주택_전세거래수'], axis=0)"
   ]
  },
  {
   "cell_type": "code",
   "execution_count": 26,
   "id": "377a6da8",
   "metadata": {},
   "outputs": [],
   "source": [
    "seoul['다가구주택_실거래비율'] = seoul['다가구주택_실거래수'].divide(seoul['실거래수'], axis=0)\n",
    "gwangjin['다가구주택_실거래비율'] = gwangjin['다가구주택_실거래수'].divide(gwangjin['실거래수'], axis=0)"
   ]
  },
  {
   "cell_type": "code",
   "execution_count": 27,
   "id": "104d702f",
   "metadata": {},
   "outputs": [],
   "source": [
    "seoul['아파트_실거래비율'] = seoul['아파트_실거래수'].divide(seoul['실거래수'], axis=0)\n",
    "gwangjin['아파트_실거래비율'] = gwangjin['아파트_실거래수'].divide(gwangjin['실거래수'], axis=0)"
   ]
  },
  {
   "cell_type": "markdown",
   "id": "810ea23e",
   "metadata": {},
   "source": [
    "## Save Data"
   ]
  },
  {
   "cell_type": "code",
   "execution_count": 28,
   "id": "f63de305",
   "metadata": {},
   "outputs": [],
   "source": [
    "# 각 데이터를 저장한다.\n",
    "seoul.to_csv('ProcessedData/주거정보_seoul.csv', index=False)\n",
    "gwangjin.to_csv('ProcessedData/주거정보_gwangjin.csv', index=False)"
   ]
  },
  {
   "cell_type": "code",
   "execution_count": null,
   "id": "9f86cb75",
   "metadata": {},
   "outputs": [],
   "source": []
  },
  {
   "cell_type": "code",
   "execution_count": null,
   "id": "7ef5fef1",
   "metadata": {},
   "outputs": [],
   "source": []
  },
  {
   "cell_type": "code",
   "execution_count": null,
   "id": "236f48d1",
   "metadata": {},
   "outputs": [],
   "source": []
  }
 ],
 "metadata": {
  "kernelspec": {
   "display_name": "Python 3 (ipykernel)",
   "language": "python",
   "name": "python3"
  },
  "language_info": {
   "codemirror_mode": {
    "name": "ipython",
    "version": 3
   },
   "file_extension": ".py",
   "mimetype": "text/x-python",
   "name": "python",
   "nbconvert_exporter": "python",
   "pygments_lexer": "ipython3",
   "version": "3.9.7"
  }
 },
 "nbformat": 4,
 "nbformat_minor": 5
}
